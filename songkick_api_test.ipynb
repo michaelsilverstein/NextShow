{
 "cells": [
  {
   "cell_type": "markdown",
   "metadata": {},
   "source": [
    "# SongKick API\n",
    "We want to use the SongKickAPI to query concerts in a given area to generate a list of bands\n",
    "\n",
    "Our key: wIKM4rEcfOjz07mp"
   ]
  },
  {
   "cell_type": "code",
   "execution_count": 128,
   "metadata": {},
   "outputs": [],
   "source": [
    "import requests\n",
    "import json\n",
    "import matplotlib.pyplot as plt"
   ]
  },
  {
   "cell_type": "code",
   "execution_count": 95,
   "metadata": {},
   "outputs": [
    {
     "data": {
      "text/plain": [
       "18842"
      ]
     },
     "execution_count": 95,
     "metadata": {},
     "output_type": "execute_result"
    }
   ],
   "source": [
    "# User information\n",
    "user_city = 'boston'\n",
    "user_state = 'ma'\n",
    "user_country = 'us'\n",
    "user_location = ','.join([user_city, user_state, user_country])\n",
    "\n",
    "\"\"\"Get metro ID\"\"\"\n",
    "resp = requests.get('https://api.songkick.com/api/3.0/search/locations.json', {'query': user_location, 'apikey': 'wIKM4rEcfOjz07mp'})\n",
    "location_data = resp.json()\n",
    "# Get locations from a search\n",
    "locations = location_data['resultsPage']['results']['location']\n",
    "for location in locations:\n",
    "    # Is the state correct?\n",
    "    location_state = location['city']['state']['displayName'].lower()\n",
    "    location_city = location['city']['displayName'].lower()\n",
    "    \n",
    "    if (user_state == location_state) & (user_city in location_city):\n",
    "        location_id = location['metroArea']['id']\n",
    "        break\n",
    "location_id"
   ]
  },
  {
   "cell_type": "code",
   "execution_count": 170,
   "metadata": {},
   "outputs": [],
   "source": [
    "\"\"\"Get performers\"\"\"\n",
    "page = 1\n",
    "all_events = []\n",
    "concerts = []\n",
    "artist_names = []\n",
    "while True:\n",
    "    resp = requests.get(f'https://api.songkick.com/api/3.0/metro_areas/{location_id}/calendar.json', {'apikey': 'wIKM4rEcfOjz07mp', 'max_date': '2020-05-24', 'page': page} )                    \n",
    "    concert_data = resp.json()\n",
    "    if not concert_data['resultsPage']['results']:\n",
    "        break\n",
    "    # Get concerts from a search\n",
    "    events = concert_data['resultsPage']['results']['event']\n",
    "    all_events.extend(events)\n",
    "\n",
    "    for event in events:\n",
    "        if event['type'] == 'Concert':\n",
    "            concerts.append(event)\n",
    "            #Get Performer(s) Name\n",
    "            for performance in event['performance']:\n",
    "                artist_names.append(performance['displayName'])\n",
    "    page += 1"
   ]
  },
  {
   "cell_type": "code",
   "execution_count": 151,
   "metadata": {},
   "outputs": [
    {
     "data": {
      "image/png": "[encoded data removed]",
      "text/plain": [
       "<Figure size 432x288 with 1 Axes>"
      ]
     },
     "metadata": {
      "needs_background": "light"
     },
     "output_type": "display_data"
    }
   ],
   "source": [
    "plt.hist([concert['popularity'] for concert in concerts], bins=20, ec='w')\n",
    "plt.show()"
   ]
  }
 ],
 "metadata": {
  "kernelspec": {
   "display_name": "Python 3",
   "language": "python",
   "name": "python3"
  },
  "language_info": {
   "codemirror_mode": {
    "name": "ipython",
    "version": 3
   },
   "file_extension": ".py",
   "mimetype": "text/x-python",
   "name": "python",
   "nbconvert_exporter": "python",
   "pygments_lexer": "ipython3",
   "version": "3.6.10"
  }
 },
 "nbformat": 4,
 "nbformat_minor": 4
}
